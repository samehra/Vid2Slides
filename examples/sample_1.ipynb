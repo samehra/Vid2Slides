# Download youtube video
youtube_url = 'https://www.youtube.com/watch?v=IByC2keY3vo&t=1341s'
video_path = download_video(youtube_url)

# Capture relevant frames
video_path = 'video.mp4'
max_slides = 100
capture_slides(video_path, max_frame_count = max_slides, verbose=True)

# Preview downloaded images
image_folder = 'slides'  # Replace with your actual folder path
preview_images(image_folder)
